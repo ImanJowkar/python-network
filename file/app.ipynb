{
 "cells": [
  {
   "cell_type": "code",
   "execution_count": 1,
   "metadata": {},
   "outputs": [
    {
     "name": "stdout",
     "output_type": "stream",
     "text": [
      "['test', 'app.ipynb', 'test1', 'README.md']\n"
     ]
    }
   ],
   "source": [
    "import os\n",
    "\n",
    "# print(os.getcwd())\n",
    "# os.mkdir('test')\n",
    "\n",
    "print(os.listdir('.'))"
   ]
  },
  {
   "cell_type": "code",
   "execution_count": 2,
   "metadata": {},
   "outputs": [
    {
     "name": "stdout",
     "output_type": "stream",
     "text": [
      "['test', 'test1']\n"
     ]
    }
   ],
   "source": [
    "lst_dirs = []\n",
    "for root, dirs, files in os.walk('.'):\n",
    "    for dir in dirs:\n",
    "        lst = lst_dirs.append(dir)\n",
    "\n",
    "print(lst_dirs)\n"
   ]
  },
  {
   "cell_type": "code",
   "execution_count": 3,
   "metadata": {},
   "outputs": [
    {
     "name": "stdout",
     "output_type": "stream",
     "text": [
      "['app.ipynb', 'README.md']\n",
      "['test', 'test1']\n"
     ]
    }
   ],
   "source": [
    "lst_files = []\n",
    "lst_dirs = []\n",
    "for item in os.listdir('.'):\n",
    "    if os.path.isfile(item):\n",
    "        lst_files.append(item)\n",
    "\n",
    "    elif os.path.isdir(item):\n",
    "        lst_dirs.append(item)\n",
    "\n",
    "\n",
    "print(lst_files)\n",
    "print(lst_dirs)"
   ]
  },
  {
   "cell_type": "code",
   "execution_count": 5,
   "metadata": {},
   "outputs": [
    {
     "data": {
      "text/plain": [
       "'./*'"
      ]
     },
     "execution_count": 5,
     "metadata": {},
     "output_type": "execute_result"
    }
   ],
   "source": [
    "os.path.join('.', '*')"
   ]
  },
  {
   "cell_type": "code",
   "execution_count": 6,
   "metadata": {},
   "outputs": [
    {
     "name": "stdout",
     "output_type": "stream",
     "text": [
      "./test\n",
      "./app.ipynb\n",
      "./test1\n"
     ]
    }
   ],
   "source": [
    "import glob\n",
    "for item in glob.glob(os.path.join('.', '*')):\n",
    "    print(item)"
   ]
  },
  {
   "cell_type": "code",
   "execution_count": 7,
   "metadata": {},
   "outputs": [
    {
     "name": "stdout",
     "output_type": "stream",
     "text": [
      "./main.go\n"
     ]
    }
   ],
   "source": [
    "import glob\n",
    "for item in glob.glob(os.path.join('.', '*.go')):\n",
    "    print(item)"
   ]
  },
  {
   "cell_type": "code",
   "execution_count": 8,
   "metadata": {},
   "outputs": [
    {
     "name": "stdout",
     "output_type": "stream",
     "text": [
      "['./main.go']\n"
     ]
    }
   ],
   "source": [
    "lst_go = list()\n",
    "import glob\n",
    "for item in glob.glob(os.path.join('.', '*.go')):\n",
    "    lst_go.append(item)\n",
    "\n",
    "print(lst_go)"
   ]
  },
  {
   "cell_type": "code",
   "execution_count": 9,
   "metadata": {},
   "outputs": [
    {
     "name": "stdout",
     "output_type": "stream",
     "text": [
      "test1/file.py\n"
     ]
    }
   ],
   "source": [
    "import glob\n",
    "for item in glob.glob(os.path.join('test1/', '*.py')):\n",
    "    print(item)\n"
   ]
  },
  {
   "cell_type": "code",
   "execution_count": 10,
   "metadata": {},
   "outputs": [
    {
     "name": "stdout",
     "output_type": "stream",
     "text": [
      "test1/file.py\n"
     ]
    }
   ],
   "source": [
    "import glob\n",
    "for item in glob.glob('test1/*.py'):\n",
    "    print(item)"
   ]
  },
  {
   "cell_type": "code",
   "execution_count": null,
   "metadata": {},
   "outputs": [],
   "source": []
  },
  {
   "cell_type": "code",
   "execution_count": null,
   "metadata": {},
   "outputs": [],
   "source": []
  },
  {
   "cell_type": "code",
   "execution_count": null,
   "metadata": {},
   "outputs": [],
   "source": []
  }
 ],
 "metadata": {
  "kernelspec": {
   "display_name": "Python 3",
   "language": "python",
   "name": "python3"
  },
  "language_info": {
   "codemirror_mode": {
    "name": "ipython",
    "version": 3
   },
   "file_extension": ".py",
   "mimetype": "text/x-python",
   "name": "python",
   "nbconvert_exporter": "python",
   "pygments_lexer": "ipython3",
   "version": "3.10.12"
  },
  "orig_nbformat": 4
 },
 "nbformat": 4,
 "nbformat_minor": 2
}
