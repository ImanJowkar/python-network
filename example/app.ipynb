{
 "cells": [
  {
   "cell_type": "code",
   "execution_count": null,
   "metadata": {},
   "outputs": [],
   "source": []
  },
  {
   "cell_type": "markdown",
   "metadata": {},
   "source": [
    "# IP Scanner"
   ]
  },
  {
   "cell_type": "code",
   "execution_count": null,
   "metadata": {},
   "outputs": [],
   "source": [
    "import os\n",
    "addr = '8.8.8.5'\n",
    "cmd = f\"ping -c 1 {addr} > /dev/null\"\n",
    "res = os.system(cmd)\n",
    "\n",
    "if res == 0:\n",
    "  print(f\"{addr} is up!\")\n",
    "else:\n",
    "  print(f\"{addr} is down!\")"
   ]
  },
  {
   "cell_type": "markdown",
   "metadata": {},
   "source": [
    "# Chack a range of a network"
   ]
  },
  {
   "cell_type": "code",
   "execution_count": null,
   "metadata": {},
   "outputs": [],
   "source": [
    "import ipaddress\n",
    "import os\n",
    "\n",
    "lower_ip = input(\"Start IP: \")\n",
    "upper_ip = input(\"End IP: \")\n",
    "\n",
    "num1 = int(ipaddress.IPv4Address(lower_ip))\n",
    "num2 = int(ipaddress.IPv4Address(upper_ip))\n",
    "\n",
    "for num in range(num1, num2+1):\n",
    "    cmd = f\"ping -c 1 {str(ipaddress.IPv4Address(num))} > /dev/null\"\n",
    "    res = os.system(cmd)\n",
    "\n",
    "    if res == 0:\n",
    "        print(f\"Host: {ipaddress.IPv4Address(num)} is available. \")\n",
    "    else: \n",
    "        print(f\"Host: {ipaddress.IPv4Address(num)} is not available. \")\n",
    "        \n"
   ]
  },
  {
   "cell_type": "markdown",
   "metadata": {},
   "source": [
    "# Port Scan"
   ]
  },
  {
   "cell_type": "code",
   "execution_count": null,
   "metadata": {},
   "outputs": [],
   "source": [
    "import socket\n",
    "\n",
    "addr = \"8.8.8.8\"\n",
    "port = 53\n",
    "\n",
    "sock = socket.socket(socket.AF_INET, socket.SOCK_STREAM)\n",
    "sock.settimeout(2)   \n",
    "res = sock.connect_ex((addr, port))\n",
    "\n",
    "if res == 0:\n",
    "    print(f'port: {port} of this address: {addr} is open.')\n",
    "\n",
    "else:\n",
    "    print(f'port: {port} of this address: {addr} is not open.')\n",
    "\n",
    "sock.close()"
   ]
  },
  {
   "cell_type": "markdown",
   "metadata": {},
   "source": [
    "# Check a range of port"
   ]
  },
  {
   "cell_type": "code",
   "execution_count": null,
   "metadata": {},
   "outputs": [],
   "source": [
    "import socket\n",
    "\n",
    "addr = \"8.8.8.8\"\n",
    "lower_port = 50\n",
    "upper_port = 60\n",
    "\n",
    "\n",
    "for port in range(lower_port, upper_port+1):\n",
    "    sock = socket.socket(socket.AF_INET, socket.SOCK_STREAM)\n",
    "    sock.settimeout(2)\n",
    "    res = sock.connect_ex((addr, port))\n",
    "    if res == 0:\n",
    "        print(f'port: {port} of this address: {addr} is Open.')\n",
    "\n",
    "    else:\n",
    "        print(f'port: {port} of this address: {addr} is Close.')\n",
    "\n",
    "sock.close()"
   ]
  },
  {
   "cell_type": "code",
   "execution_count": 7,
   "metadata": {},
   "outputs": [
    {
     "name": "stdout",
     "output_type": "stream",
     "text": [
      "port: 75 of this address: 142.250.181.238 is Close.\n",
      "port: 76 of this address: 142.250.181.238 is Close.\n",
      "port: 77 of this address: 142.250.181.238 is Close.\n",
      "port: 78 of this address: 142.250.181.238 is Close.\n",
      "port: 79 of this address: 142.250.181.238 is Close.\n",
      "port: 80 of this address: 142.250.181.238 is Open.\n",
      "port: 81 of this address: 142.250.181.238 is Close.\n",
      "port: 82 of this address: 142.250.181.238 is Close.\n",
      "port: 83 of this address: 142.250.181.238 is Close.\n",
      "port: 84 of this address: 142.250.181.238 is Close.\n",
      "port: 85 of this address: 142.250.181.238 is Close.\n",
      "Total time is: 0:00:20.127589\n"
     ]
    }
   ],
   "source": [
    "import socket\n",
    "from datetime import datetime\n",
    "\n",
    "\n",
    "addr = \"google.com\"\n",
    "addr = socket.gethostbyname(addr)\n",
    "lower_port = 75\n",
    "upper_port = 85\n",
    "\n",
    "t1 = datetime.now()\n",
    "for port in range(lower_port, upper_port+1):\n",
    "    sock = socket.socket(socket.AF_INET, socket.SOCK_STREAM)\n",
    "    sock.settimeout(2)\n",
    "    res = sock.connect_ex((addr, port))\n",
    "    if res == 0:\n",
    "        print(f'port: {port} of this address: {addr} is Open.')\n",
    "\n",
    "    else:\n",
    "        print(f'port: {port} of this address: {addr} is Close.')\n",
    "\n",
    "sock.close()\n",
    "t2 = datetime.now()\n",
    "\n",
    "print(f\"Total time is: {t2-t1}\")"
   ]
  }
 ],
 "metadata": {
  "kernelspec": {
   "display_name": "Python 3",
   "language": "python",
   "name": "python3"
  },
  "language_info": {
   "codemirror_mode": {
    "name": "ipython",
    "version": 3
   },
   "file_extension": ".py",
   "mimetype": "text/x-python",
   "name": "python",
   "nbconvert_exporter": "python",
   "pygments_lexer": "ipython3",
   "version": "3.10.12"
  },
  "orig_nbformat": 4
 },
 "nbformat": 4,
 "nbformat_minor": 2
}
