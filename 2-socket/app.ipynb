{
 "cells": [
  {
   "cell_type": "code",
   "execution_count": null,
   "metadata": {},
   "outputs": [],
   "source": [
    "import socket\n",
    "import sys\n",
    "\n",
    "try:\n",
    "    s1 = socket.socket(socket.AF_INET, socket.SOCK_STREAM)\n",
    "\n",
    "except socket.error as msg:\n",
    "    print(f'The creation of socket has been failed. Error code: {msg}')\n",
    "    sys.exit()\n",
    "\n",
    "print('Socket has been created.')\n",
    "\n",
    "host = 'digikala.com'\n",
    "port = 443\n",
    "\n",
    "try:\n",
    "    remote_ip = socket.gethostbyname(host)\n",
    "\n",
    "except socket.gaierror:\n",
    "    print(\"The hostname is not resolvable, Exiting...\")\n",
    "    sys.exit()\n",
    "\n",
    "print(f\"The IP address is : {remote_ip}\")"
   ]
  },
  {
   "cell_type": "code",
   "execution_count": null,
   "metadata": {},
   "outputs": [],
   "source": [
    "import socket\n",
    "import sys\n",
    "\n",
    "try:\n",
    "    s1 = socket.socket(socket.AF_INET, socket.SOCK_STREAM)\n",
    "\n",
    "except socket.error as msg:\n",
    "    print(f'The creation of socket has been failed. Error code: {msg}')\n",
    "    sys.exit()\n",
    "\n",
    "print('Socket has been created.')\n",
    "\n",
    "host = 'digikala.com'\n",
    "port = 80\n",
    "\n",
    "try:\n",
    "    remote_ip = socket.gethostbyname(host)\n",
    "\n",
    "except socket.gaierror:\n",
    "    print(\"The hostname is not resolvable, Exiting...\")\n",
    "    sys.exit()\n",
    "\n",
    "print(f\"The IP address is : {remote_ip}\")\n",
    "\n",
    "s1.connect((remote_ip, port))\n",
    "\n",
    "\n",
    "msg = \"GET /\".encode()\n",
    "\n",
    "try:\n",
    "    s1.sendall(msg)\n",
    "\n",
    "except socket.error:\n",
    "    print('Sending failed')\n",
    "    sys.exit()\n",
    "\n",
    "print(\"Message send\")\n",
    "\n",
    "\n",
    "# reply = s1.recv(4096)\n",
    "#print(reply)"
   ]
  },
  {
   "cell_type": "code",
   "execution_count": null,
   "metadata": {},
   "outputs": [],
   "source": [
    "import socket\n",
    "\n",
    "tcps = socket.socket(socket.AF_INET, socket.SOCK_STREAM)\n",
    "tcps.bind((\"0.0.0.0\", 23000))\n",
    "tcps.listen(9)\n",
    "(client, (ip, port)) = tcps.accept()\n",
    "print(client, ip, port)"
   ]
  },
  {
   "cell_type": "code",
   "execution_count": null,
   "metadata": {},
   "outputs": [],
   "source": [
    "port"
   ]
  },
  {
   "cell_type": "code",
   "execution_count": null,
   "metadata": {},
   "outputs": [],
   "source": [
    "client.send(b\"hello clinet\")"
   ]
  },
  {
   "cell_type": "code",
   "execution_count": null,
   "metadata": {},
   "outputs": [],
   "source": [
    "data = client.recv(2048)\n"
   ]
  },
  {
   "cell_type": "code",
   "execution_count": null,
   "metadata": {},
   "outputs": [],
   "source": [
    "data"
   ]
  },
  {
   "cell_type": "markdown",
   "metadata": {},
   "source": [
    "# Socket Server"
   ]
  },
  {
   "cell_type": "code",
   "execution_count": null,
   "metadata": {},
   "outputs": [],
   "source": [
    "import socketserver\n",
    "\n",
    "\n",
    "class ClientHandler(socketserver.BaseRequestHandler):\n",
    "    def handle(self):\n",
    "        print(\"New Client Connected: \", self.client_address)\n",
    "        data = \"default val\"\n",
    "        while len(data):\n",
    "            data = self.request.recv(2048)\n",
    "            print(\"new msg received\", self.client_address)\n",
    "            self.request.send(b\"we received your msg\")\n",
    "\n",
    "srv_addr = (\"0.0.0.0\", 43000)\n",
    "srv = socketserver.TCPServer(srv_addr, ClientHandler)\n",
    "srv.serve_forever()"
   ]
  }
 ],
 "metadata": {
  "kernelspec": {
   "display_name": "Python 3",
   "language": "python",
   "name": "python3"
  },
  "language_info": {
   "codemirror_mode": {
    "name": "ipython",
    "version": 3
   },
   "file_extension": ".py",
   "mimetype": "text/x-python",
   "name": "python",
   "nbconvert_exporter": "python",
   "pygments_lexer": "ipython3",
   "version": "3.10.12"
  },
  "orig_nbformat": 4
 },
 "nbformat": 4,
 "nbformat_minor": 2
}
