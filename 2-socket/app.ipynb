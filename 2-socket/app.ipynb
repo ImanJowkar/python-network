{
 "cells": [
  {
   "cell_type": "code",
   "execution_count": null,
   "metadata": {},
   "outputs": [],
   "source": [
    "import socket\n",
    "import sys\n",
    "\n",
    "try:\n",
    "    s1 = socket.socket(socket.AF_INET, socket.SOCK_STREAM)\n",
    "\n",
    "except socket.error as msg:\n",
    "    print(f'The creation of socket has been failed. Error code: {msg}')\n",
    "    sys.exit()\n",
    "\n",
    "print('Socket has been created.')\n",
    "\n",
    "host = 'digikala.com'\n",
    "port = 443\n",
    "\n",
    "try:\n",
    "    remote_ip = socket.gethostbyname(host)\n",
    "\n",
    "except socket.gaierror:\n",
    "    print(\"The hostname is not resolvable, Exiting...\")\n",
    "    sys.exit()\n",
    "\n",
    "print(f\"The IP address is : {remote_ip}\")"
   ]
  },
  {
   "cell_type": "code",
   "execution_count": null,
   "metadata": {},
   "outputs": [],
   "source": [
    "import socket\n",
    "import sys\n",
    "\n",
    "try:\n",
    "    s1 = socket.socket(socket.AF_INET, socket.SOCK_STREAM)\n",
    "\n",
    "except socket.error as msg:\n",
    "    print(f'The creation of socket has been failed. Error code: {msg}')\n",
    "    sys.exit()\n",
    "\n",
    "print('Socket has been created.')\n",
    "\n",
    "host = 'digikala.com'\n",
    "port = 80\n",
    "\n",
    "try:\n",
    "    remote_ip = socket.gethostbyname(host)\n",
    "\n",
    "except socket.gaierror:\n",
    "    print(\"The hostname is not resolvable, Exiting...\")\n",
    "    sys.exit()\n",
    "\n",
    "print(f\"The IP address is : {remote_ip}\")\n",
    "\n",
    "s1.connect((remote_ip, port))\n",
    "\n",
    "\n",
    "msg = \"GET /\".encode()\n",
    "\n",
    "try:\n",
    "    s1.sendall(msg)\n",
    "\n",
    "except socket.error:\n",
    "    print('Sending failed')\n",
    "    sys.exit()\n",
    "\n",
    "print(\"Message send\")\n",
    "\n",
    "\n",
    "# reply = s1.recv(4096)\n",
    "#print(reply)"
   ]
  },
  {
   "cell_type": "code",
   "execution_count": null,
   "metadata": {},
   "outputs": [],
   "source": [
    "import socket\n",
    "\n",
    "tcps = socket.socket(socket.AF_INET, socket.SOCK_STREAM)\n",
    "tcps.bind((\"0.0.0.0\", 23000))\n",
    "tcps.listen(9)\n",
    "(client, (ip, port)) = tcps.accept()\n",
    "print(client, ip, port)"
   ]
  },
  {
   "cell_type": "code",
   "execution_count": null,
   "metadata": {},
   "outputs": [],
   "source": [
    "port"
   ]
  },
  {
   "cell_type": "code",
   "execution_count": null,
   "metadata": {},
   "outputs": [],
   "source": [
    "client.send(b\"hello clinet\")"
   ]
  },
  {
   "cell_type": "code",
   "execution_count": null,
   "metadata": {},
   "outputs": [],
   "source": [
    "data = client.recv(2048)\n"
   ]
  },
  {
   "cell_type": "code",
   "execution_count": null,
   "metadata": {},
   "outputs": [],
   "source": [
    "data"
   ]
  },
  {
   "cell_type": "markdown",
   "metadata": {},
   "source": [
    "# Socket Server"
   ]
  },
  {
   "cell_type": "code",
   "execution_count": null,
   "metadata": {},
   "outputs": [],
   "source": [
    "import socketserver\n",
    "\n",
    "\n",
    "class ClientHandler(socketserver.BaseRequestHandler):\n",
    "    def handle(self):\n",
    "        print(\"New Client Connected: \", self.client_address)\n",
    "        data = \"default val\"\n",
    "        while len(data):\n",
    "            data = self.request.recv(2048)\n",
    "            print(\"new msg received\", self.client_address)\n",
    "            self.request.send(b\"we received your msg\")\n",
    "\n",
    "srv_addr = (\"0.0.0.0\", 43000)\n",
    "srv = socketserver.TCPServer(srv_addr, ClientHandler)\n",
    "srv.serve_forever()"
   ]
  },
  {
   "cell_type": "code",
   "execution_count": null,
   "metadata": {},
   "outputs": [],
   "source": []
  },
  {
   "cell_type": "markdown",
   "metadata": {},
   "source": [
    "# Web-Server"
   ]
  },
  {
   "cell_type": "code",
   "execution_count": 1,
   "metadata": {},
   "outputs": [
    {
     "name": "stderr",
     "output_type": "stream",
     "text": [
      "192.168.56.1 - - [12/Oct/2023 10:00:06] \"GET / HTTP/1.1\" 200 -\n",
      "192.168.56.1 - - [12/Oct/2023 10:00:06] code 404, message File not found\n",
      "192.168.56.1 - - [12/Oct/2023 10:00:06] \"GET /favicon.ico HTTP/1.1\" 404 -\n"
     ]
    },
    {
     "ename": "KeyboardInterrupt",
     "evalue": "",
     "output_type": "error",
     "traceback": [
      "\u001b[0;31m---------------------------------------------------------------------------\u001b[0m",
      "\u001b[0;31mKeyboardInterrupt\u001b[0m                         Traceback (most recent call last)",
      "Cell \u001b[0;32mIn[1], line 6\u001b[0m\n\u001b[1;32m      4\u001b[0m addr \u001b[39m=\u001b[39m (\u001b[39m\"\u001b[39m\u001b[39m0.0.0.0\u001b[39m\u001b[39m\"\u001b[39m,  \u001b[39m11000\u001b[39m)\n\u001b[1;32m      5\u001b[0m httpserver \u001b[39m=\u001b[39m socketserver\u001b[39m.\u001b[39mTCPServer(addr, http\u001b[39m.\u001b[39mserver\u001b[39m.\u001b[39mSimpleHTTPRequestHandler)\n\u001b[0;32m----> 6\u001b[0m httpserver\u001b[39m.\u001b[39;49mserve_forever()\n",
      "File \u001b[0;32m/usr/lib/python3.10/socketserver.py:232\u001b[0m, in \u001b[0;36mBaseServer.serve_forever\u001b[0;34m(self, poll_interval)\u001b[0m\n\u001b[1;32m    229\u001b[0m selector\u001b[39m.\u001b[39mregister(\u001b[39mself\u001b[39m, selectors\u001b[39m.\u001b[39mEVENT_READ)\n\u001b[1;32m    231\u001b[0m \u001b[39mwhile\u001b[39;00m \u001b[39mnot\u001b[39;00m \u001b[39mself\u001b[39m\u001b[39m.\u001b[39m__shutdown_request:\n\u001b[0;32m--> 232\u001b[0m     ready \u001b[39m=\u001b[39m selector\u001b[39m.\u001b[39;49mselect(poll_interval)\n\u001b[1;32m    233\u001b[0m     \u001b[39m# bpo-35017: shutdown() called during select(), exit immediately.\u001b[39;00m\n\u001b[1;32m    234\u001b[0m     \u001b[39mif\u001b[39;00m \u001b[39mself\u001b[39m\u001b[39m.\u001b[39m__shutdown_request:\n",
      "File \u001b[0;32m/usr/lib/python3.10/selectors.py:416\u001b[0m, in \u001b[0;36m_PollLikeSelector.select\u001b[0;34m(self, timeout)\u001b[0m\n\u001b[1;32m    414\u001b[0m ready \u001b[39m=\u001b[39m []\n\u001b[1;32m    415\u001b[0m \u001b[39mtry\u001b[39;00m:\n\u001b[0;32m--> 416\u001b[0m     fd_event_list \u001b[39m=\u001b[39m \u001b[39mself\u001b[39;49m\u001b[39m.\u001b[39;49m_selector\u001b[39m.\u001b[39;49mpoll(timeout)\n\u001b[1;32m    417\u001b[0m \u001b[39mexcept\u001b[39;00m \u001b[39mInterruptedError\u001b[39;00m:\n\u001b[1;32m    418\u001b[0m     \u001b[39mreturn\u001b[39;00m ready\n",
      "\u001b[0;31mKeyboardInterrupt\u001b[0m: "
     ]
    }
   ],
   "source": [
    "import socketserver\n",
    "import http.server\n",
    "\n",
    "addr = (\"0.0.0.0\",  11000)\n",
    "httpserver = socketserver.TCPServer(addr, http.server.SimpleHTTPRequestHandler)\n",
    "httpserver.serve_forever()"
   ]
  }
 ],
 "metadata": {
  "kernelspec": {
   "display_name": "Python 3",
   "language": "python",
   "name": "python3"
  },
  "language_info": {
   "codemirror_mode": {
    "name": "ipython",
    "version": 3
   },
   "file_extension": ".py",
   "mimetype": "text/x-python",
   "name": "python",
   "nbconvert_exporter": "python",
   "pygments_lexer": "ipython3",
   "version": "3.10.12"
  },
  "orig_nbformat": 4
 },
 "nbformat": 4,
 "nbformat_minor": 2
}
